{
 "cells": [
  {
   "cell_type": "code",
   "execution_count": 1,
   "id": "4d0f3dff",
   "metadata": {},
   "outputs": [
    {
     "ename": "ModuleNotFoundError",
     "evalue": "No module named 'instaOmniDepth'",
     "output_type": "error",
     "traceback": [
      "\u001b[0;31m---------------------------------------------------------------------------\u001b[0m",
      "\u001b[0;31mModuleNotFoundError\u001b[0m                       Traceback (most recent call last)",
      "Cell \u001b[0;32mIn[1], line 1\u001b[0m\n\u001b[0;32m----> 1\u001b[0m \u001b[38;5;28;01mfrom\u001b[39;00m \u001b[38;5;21;01minstaOmniDepth\u001b[39;00m\u001b[38;5;21;01m.\u001b[39;00m\u001b[38;5;21;01momni_depth_estimation\u001b[39;00m \u001b[38;5;28;01mimport\u001b[39;00m estimate_depth\n\u001b[1;32m      3\u001b[0m depth \u001b[38;5;241m=\u001b[39m estimate_depth(\u001b[38;5;124m\"\u001b[39m\u001b[38;5;124mimage.png\u001b[39m\u001b[38;5;124m\"\u001b[39m)\n\u001b[1;32m      4\u001b[0m \u001b[38;5;28mprint\u001b[39m(depth\u001b[38;5;241m.\u001b[39mshape)  \u001b[38;5;66;03m# Should print (H, W)\u001b[39;00m\n",
      "\u001b[0;31mModuleNotFoundError\u001b[0m: No module named 'instaOmniDepth'"
     ]
    }
   ],
   "source": [
    "from instaOmniDepth.omni_depth_estimation import estimate_depth\n",
    "\n",
    "depth = estimate_depth(\"image.png\")\n",
    "print(depth.shape)  # Should print (H, W)\n"
   ]
  }
 ],
 "metadata": {
  "kernelspec": {
   "display_name": "monodepth360",
   "language": "python",
   "name": "python3"
  },
  "language_info": {
   "codemirror_mode": {
    "name": "ipython",
    "version": 3
   },
   "file_extension": ".py",
   "mimetype": "text/x-python",
   "name": "python",
   "nbconvert_exporter": "python",
   "pygments_lexer": "ipython3",
   "version": "3.8.20"
  }
 },
 "nbformat": 4,
 "nbformat_minor": 5
}
